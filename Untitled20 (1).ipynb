{
  "nbformat": 4,
  "nbformat_minor": 0,
  "metadata": {
    "colab": {
      "name": "Untitled20.ipynb",
      "provenance": []
    },
    "kernelspec": {
      "name": "python3",
      "display_name": "Python 3"
    },
    "language_info": {
      "name": "python"
    }
  },
  "cells": [
    {
      "cell_type": "code",
      "metadata": {
        "id": "rNogX9zyqkqT"
      },
      "source": [
        "def sequential_Search(dlist, item):\n",
        "\n",
        "  pos = 0\n",
        "  found = False\n",
        "\n",
        "  while pos < len(dlist) and not found:\n",
        "      if dlist[pos] == item:\n",
        "          found = True\n",
        "      else:\n",
        "          pos = pos + 1 \n",
        "\n",
        "  return found, pos"
      ],
      "execution_count": 1,
      "outputs": []
    },
    {
      "cell_type": "code",
      "metadata": {
        "colab": {
          "base_uri": "https://localhost:8080/"
        },
        "id": "y6LUl5DNrKVC",
        "outputId": "be674d27-2b07-44f9-f564-13670ed58459"
      },
      "source": [
        "print(sequential_Search([11,23,58,31,56,77,43,12,65,19],31))"
      ],
      "execution_count": 2,
      "outputs": [
        {
          "output_type": "stream",
          "name": "stdout",
          "text": [
            "(True, 3)\n"
          ]
        }
      ]
    },
    {
      "cell_type": "code",
      "metadata": {
        "id": "sFOb8gYws3-I"
      },
      "source": [
        "def sequential_Search(dlist, item):\n",
        "\n",
        "  pos = 0\n",
        "  found = False\n",
        "\n",
        "  while pos < len(dlist) and not found:\n",
        "      if dlist[pos] == item:\n",
        "          found = True\n",
        "      else:\n",
        "          pos = pos + 1 \n",
        "\n",
        "  return found, pos"
      ],
      "execution_count": 3,
      "outputs": []
    },
    {
      "cell_type": "code",
      "metadata": {
        "colab": {
          "base_uri": "https://localhost:8080/"
        },
        "id": "TMKfnS0etDOG",
        "outputId": "7cbeb275-b254-4aa8-8471-f5ef8b58ccb5"
      },
      "source": [
        "print(sequential_Search(['a','b','c','d','e','f','g','h','i','j'],'g'))"
      ],
      "execution_count": 5,
      "outputs": [
        {
          "output_type": "stream",
          "name": "stdout",
          "text": [
            "(True, 6)\n"
          ]
        }
      ]
    },
    {
      "cell_type": "code",
      "metadata": {
        "colab": {
          "base_uri": "https://localhost:8080/"
        },
        "id": "2Cw3hzStvBTz",
        "outputId": "de1777d3-42a0-43f6-eeca-b69448adf63f"
      },
      "source": [
        "bilangan = int(input('Masukan bilangan: '))\n",
        "pangkat = int(input('Masukan pangkat: '))\n",
        "\n",
        "def hitung_pangkat(bilangan, pangkat):\n",
        "  if pangkat > 1:\n",
        "    return bilangan * hitung_pangkat(bilangan, pangkat - 1)\n",
        "\n",
        "  return bilangan\n",
        "\n",
        "hasil = hitung_pangkat(bilangan, pangkat)\n",
        "print(f'Hasil = {hasil}')"
      ],
      "execution_count": 9,
      "outputs": [
        {
          "output_type": "stream",
          "name": "stdout",
          "text": [
            "Masukan bilangan: 4\n",
            "Masukan pangkat: 6\n",
            "Hasil = 4096\n"
          ]
        }
      ]
    },
    {
      "cell_type": "code",
      "metadata": {
        "colab": {
          "base_uri": "https://localhost:8080/"
        },
        "id": "7nlvT-Y6xZre",
        "outputId": "d6d64c04-58de-4d22-f8f5-4b6167343189"
      },
      "source": [
        "n = int(input('Masukan nilai n: '))\n",
        "def hitung_faktorial (n):\n",
        "  if n > 2:\n",
        "    return n * hitung_faktorial(n - 1)\n",
        "\n",
        "  return 2\n",
        "\n",
        "faktorial = hitung_faktorial(n)\n",
        "print(f'{n}! = {faktorial}')"
      ],
      "execution_count": 10,
      "outputs": [
        {
          "output_type": "stream",
          "name": "stdout",
          "text": [
            "Masukan nilai n: 5\n",
            "5! = 120\n"
          ]
        }
      ]
    },
    {
      "cell_type": "code",
      "metadata": {
        "colab": {
          "base_uri": "https://localhost:8080/"
        },
        "id": "Yfe5H8i52nqj",
        "outputId": "25b2fc05-faa9-4292-d737-8031412d995e"
      },
      "source": [
        "def string_match(string, sub_str):\n",
        " # Brute force string matching\n",
        " for i in range(len(string)-len(sub_str)+1):\n",
        "  index = i # index point to the 1 three characters to be compared\n",
        "  for j in range(len(sub_str)):\n",
        "   if string[index] == sub_str[j]:\n",
        "    index += 1\n",
        "   else:\n",
        "    break\n",
        "   if index-i == len(sub_str):\n",
        "    return i\n",
        " return -1\n",
        "\n",
        "if __name__ == \"__main__\":\n",
        " print(string_match(\"adbcbdc\", \"bdc\"))"
      ],
      "execution_count": 18,
      "outputs": [
        {
          "output_type": "stream",
          "name": "stdout",
          "text": [
            "4\n"
          ]
        }
      ]
    },
    {
      "cell_type": "code",
      "metadata": {
        "colab": {
          "base_uri": "https://localhost:8080/"
        },
        "id": "4zt7dhVu3BbJ",
        "outputId": "b5906a10-534c-4fa3-966f-795a7f3912ac"
      },
      "source": [
        "def string_match(string, sub_str):\n",
        " # Brute force string matching\n",
        " for i in range(len(string)-len(sub_str)+1):\n",
        "  index = i # index point to the 1 three characters to be compared\n",
        "  for j in range(len(sub_str)):\n",
        "   if string[index] == sub_str[j]:\n",
        "    index += 1\n",
        "   else:\n",
        "    break\n",
        "   if index-i == len(sub_str):\n",
        "    return i\n",
        " return -1\n",
        "\n",
        "if __name__ == \"__main__\":\n",
        " print(string_match(\"123456789\", \"56\"))"
      ],
      "execution_count": 20,
      "outputs": [
        {
          "output_type": "stream",
          "name": "stdout",
          "text": [
            "4\n"
          ]
        }
      ]
    },
    {
      "cell_type": "code",
      "metadata": {
        "id": "FPrnV1hd754T"
      },
      "source": [
        "import random \n",
        "from itertools import permutations\n",
        "alltours = permutations\n",
        "\n",
        "def distance_tour(aTour):\n",
        "    return sum(distance_points(aTour[i - 1], aTour[i])\n",
        "        for i in range(len(aTour)))\n",
        "\n",
        "aCity = complex \n",
        "def distance_points(first, second):\n",
        "    return abs(first - second)\n",
        "\n",
        "def generate_cities (number_of_cities):\n",
        "    seed = 111; width= 500; height = 300\n",
        "    random.seed((number_of_cities, seed))\n",
        "    return frozenset(aCity(random.randint(1, width), random.randint(1, height))\n",
        "        for c in range(number_of_cities))"
      ],
      "execution_count": 35,
      "outputs": []
    },
    {
      "cell_type": "code",
      "metadata": {
        "id": "kzzYLXxbC3d4"
      },
      "source": [
        "%matplotlib inline\n",
        "import matplotlib.pyplot as plt\n",
        "\n",
        "def visualize_tour(tour, style='bo-'):\n",
        "    if len(tour) > 1000: plt.figure(figsize=(15, 10))\n",
        "    start = tour[0:1]\n",
        "    visualize_segment(tour + start, style)\n",
        "    visualize_segment(start, 'rD')\n",
        "        \n",
        "def visualize_segment (segment, style='bo-'):\n",
        "    plt.plot([X(c) for c in segment], [Y(c) for c in segment], style, clip_on=False)\n",
        "    plt.axis('scaled')\n",
        "    plt.axis('off')\n",
        "    \n",
        "def X(city): \"X axis\"; return city.real\n",
        "\n",
        "def Y(city): \"Y axis\"; return city.imag"
      ],
      "execution_count": 36,
      "outputs": []
    },
    {
      "cell_type": "code",
      "metadata": {
        "id": "QQ14PZtMDCz9"
      },
      "source": [
        "from time import process_time \n",
        "from collections import Counter \n",
        "def tsp(algorithm, cities): \n",
        "    t0 = process_time() \n",
        "    tour = algorithm(cities) \n",
        "    t1 = process_time() \n",
        "    assert Counter(tour) == Counter(cities) \n",
        "    visualize_tour(tour) \n",
        "    print(\"{}:{} cities => tour length {:.0f}(in {:.3f} sec)\".format(name(algorithm), len(tour), distance_tour(tour), t1-t0)) \n",
        "    \n",
        "\n",
        "def name(algorithm): return algorithm.__name__.replace('_tsp','')"
      ],
      "execution_count": 37,
      "outputs": []
    },
    {
      "cell_type": "code",
      "metadata": {
        "id": "dUYP1AuKDLT6"
      },
      "source": [
        "def brute_force(cities):\n",
        "  \"GENERATE ALL POSSIBLE TOURS OF THE CITIES AND CHOOSE THE SHORTEST TOUR.\"\n",
        "  return shortest_tour(alltours(cities))\n",
        "def shortest_tour(tours): return min(tours, key=distance_tour)"
      ],
      "execution_count": 38,
      "outputs": []
    },
    {
      "cell_type": "code",
      "metadata": {
        "id": "sGfvcUtYDSi1"
      },
      "source": [
        "tsp(brute_force, generate_cities(30))"
      ],
      "execution_count": null,
      "outputs": []
    }
  ]
}